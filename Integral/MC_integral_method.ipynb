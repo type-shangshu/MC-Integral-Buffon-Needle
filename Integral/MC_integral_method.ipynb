{
 "cells": [
  {
   "cell_type": "code",
   "execution_count": 15,
   "id": "90a8add6",
   "metadata": {},
   "outputs": [],
   "source": [
    "import numpy as np\n",
    "import matplotlib.pyplot as plt"
   ]
  },
  {
   "cell_type": "code",
   "execution_count": 14,
   "id": "f5b66ee3",
   "metadata": {},
   "outputs": [
    {
     "data": {
      "image/png": "[encoded data removed]",
      "text/plain": [
       "<Figure size 640x480 with 1 Axes>"
      ]
     },
     "metadata": {},
     "output_type": "display_data"
    }
   ],
   "source": [
    "x=np.linspace(0,5,200)\n",
    "y=np.exp(-x**2)\n",
    "fig,ax=plt.subplots()\n",
    "ax.plot(x,y,color=\"blue\",label=\"y(x)\")\n",
    "ax.set_xlabel('x')\n",
    "ax.set_ylabel('y')\n",
    "ax.set_title('integrand')\n",
    "ax.grid('True')"
   ]
  },
  {
   "cell_type": "code",
   "execution_count": 524,
   "id": "1b074f79",
   "metadata": {
    "scrolled": true
   },
   "outputs": [
    {
     "name": "stdout",
     "output_type": "stream",
     "text": [
      "3.098587140289891\n"
     ]
    }
   ],
   "source": [
    "#期望法\n",
    "b=5\n",
    "n=2000000\n",
    "x=np.random.uniform(0,b,size=n)\n",
    "#x_0=np.random.uniform(0,b)\n",
    "#y_0=np.exp(-x_0**2)\n",
    "y=np.sin(x)/x\n",
    "res=2*b/n*np.sum(y)\n",
    "print(res)\n"
   ]
  },
  {
   "cell_type": "code",
   "execution_count": 530,
   "id": "35c84a61",
   "metadata": {},
   "outputs": [
    {
     "name": "stdout",
     "output_type": "stream",
     "text": [
      "3.11039\n"
     ]
    }
   ],
   "source": [
    "#x=np.linspace(0,5,200)\n",
    "#y=np.exp(-x**2)\n",
    "a=-5\n",
    "b=5#区间长度\n",
    "n=2000000#试验次数\n",
    "maxy=1\n",
    "miny=-1#矩形区域为(a,miny)到(b,maxy)\n",
    "x1=np.random.uniform(a,b,size=n)\n",
    "y1=np.random.uniform(miny,maxy,size=n)#随机投点\n",
    "def flag(x0,y0):\n",
    "    if (y0<=np.sin(x0)/x0 and y0>=0):\n",
    "        return 1#面积为正\n",
    "    elif(y0>np.sin(x0)/x0 and y0<0):\n",
    "        return -1#面积为负\n",
    "    else:\n",
    "        return 0\n",
    "    return (y0<=np.sin(x0)/x0)\n",
    "flag=np.vectorize(flag)\n",
    "f=flag(x1,y1)\n",
    "'''def color(flag):\n",
    "    if flag:\n",
    "        return \"green\"\n",
    "    return \"lightcoral\"#着色\n",
    "fig,ax=plt.subplots()\n",
    "ax.plot(x,y,color=\"blue\",label=\"y(x)\")\n",
    "ax.set_xlabel('x')\n",
    "ax.set_ylabel('y')\n",
    "ax.set_title('integrand with random dots')\n",
    "ax.grid('True')#绘制待积函数\n",
    "for i in range(n):\n",
    "    ax.plot(x1[i],y1[i],\".\",color=color(f[i]))#绘制点\n",
    "'''\n",
    "n1=np.sum(f)\n",
    "result=n1/n*(b-a)*(maxy-miny)\n",
    "print(result)"
   ]
  },
  {
   "cell_type": "code",
   "execution_count": 554,
   "id": "11a755f5",
   "metadata": {
    "scrolled": true
   },
   "outputs": [
    {
     "name": "stdout",
     "output_type": "stream",
     "text": [
      "38.27263705621335\n"
     ]
    }
   ],
   "source": [
    "#投点法\n",
    "a=1\n",
    "b=5#区间长度\n",
    "n=1600000#试验次数\n",
    "maxy=np.exp(b)/b\n",
    "miny=0#矩形区域为(a,miny)到(b,maxy)\n",
    "x1=np.random.uniform(a,b,size=n)\n",
    "y1=np.random.uniform(miny,maxy,size=n)#随机投点\n",
    "def flag(x,y):\n",
    "    if (y<=np.exp(x)/x and y>=0):#integrand\n",
    "        return 1#面积为正\n",
    "    elif(y>np.exp(x)/x and y<0):\n",
    "        return -1#面积为负\n",
    "    else:\n",
    "        return 0\n",
    "flag=np.vectorize(flag)\n",
    "f=flag(x1,y1)\n",
    "n1=np.sum(f)\n",
    "result=n1/n*(b-a)*(maxy-miny)\n",
    "print(result)"
   ]
  },
  {
   "cell_type": "code",
   "execution_count": 552,
   "id": "eb114035",
   "metadata": {},
   "outputs": [
    {
     "name": "stdout",
     "output_type": "stream",
     "text": [
      "38.30720676301509\n"
     ]
    }
   ],
   "source": [
    "#期望法\n",
    "a=1\n",
    "b=5\n",
    "n=1600000\n",
    "x=np.random.uniform(a,b,size=n)\n",
    "y=np.exp(x)/x#integrand\n",
    "res=(b-a)/n*np.sum(y)\n",
    "print(res)"
   ]
  },
  {
   "cell_type": "code",
   "execution_count": null,
   "id": "854f4da5",
   "metadata": {},
   "outputs": [],
   "source": []
  }
 ],
 "metadata": {
  "kernelspec": {
   "display_name": "Python 3 (ipykernel)",
   "language": "python",
   "name": "python3"
  },
  "language_info": {
   "codemirror_mode": {
    "name": "ipython",
    "version": 3
   },
   "file_extension": ".py",
   "mimetype": "text/x-python",
   "name": "python",
   "nbconvert_exporter": "python",
   "pygments_lexer": "ipython3",
   "version": "3.9.13"
  }
 },
 "nbformat": 4,
 "nbformat_minor": 5
}
